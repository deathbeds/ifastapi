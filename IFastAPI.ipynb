{
 "cells": [
  {
   "cell_type": "code",
   "execution_count": 7,
   "metadata": {},
   "outputs": [],
   "source": [
    "\"\"\"> Running [fastapi](https://github.com/tiangolo/fastapi) under [uvicorn](https://github.com/encode/uvicorn) inside [IPython](https://github.com/ipython/ipython)\"\"\"\n",
    "__version__ = '0.1.0'"
   ]
  },
  {
   "cell_type": "code",
   "execution_count": 8,
   "metadata": {},
   "outputs": [],
   "source": [
    "    import os, asyncio, uvicorn, fastapi, pydantic, IPython, ujson, tornado.ioloop, atexit\n",
    "    server = None\n",
    "    IN_HUB = \"JUPYTERHUB_SERVICE_PREFIX\" in os.environ "
   ]
  },
  {
   "cell_type": "code",
   "execution_count": 9,
   "metadata": {},
   "outputs": [],
   "source": [
    "    def main(port=8000, **kwargs):\n",
    "        global server\n",
    "        app_args = {}\n",
    "        uvi_args = dict(port=port)\n",
    "        IN_HUB = \"JUPYTERHUB_SERVICE_PREFIX\" in os.environ \n",
    "        prefix = \"/\"\n",
    "        if IN_HUB:\n",
    "            prefix = f\"\"\"{os.environ[\"JUPYTERHUB_SERVICE_PREFIX\"]}proxy/{port}\"\"\"\n",
    "            app_args.update(openapi_prefix=prefix)\n",
    "            uvi_args.update(root_path=prefix)\n",
    "        if not server:\n",
    "            app = fastapi.FastAPI(title=\"IFastAPI\", **kwargs)\n",
    "            config = uvicorn.Config(app, **uvi_args)\n",
    "            server = uvicorn.Server(config=config)\n",
    "            task = asyncio.ensure_future(server.serve())\n",
    "            atexit.register(tornado.ioloop.IOLoop.current().add_callback, server.shutdown)\n",
    "        return server"
   ]
  },
  {
   "cell_type": "markdown",
   "metadata": {},
   "source": [
    "## Make a route"
   ]
  },
  {
   "cell_type": "code",
   "execution_count": 10,
   "metadata": {},
   "outputs": [],
   "source": [
    "    def load_ipython_extension(shell):\n",
    "        main()\n",
    "        return show_route(\"/docs\")\n",
    "    def unload_ipython_extension(shell):\n",
    "        atexit.unregister(tornado.ioloop.IOLoop.current().add_callback, server.shutdown)\n",
    "        tornado.ioloop.IOLoop.current().add_callback(server.shutdown)\n",
    "        return show_route(\"/docs\")"
   ]
  },
  {
   "cell_type": "code",
   "execution_count": 11,
   "metadata": {},
   "outputs": [],
   "source": [
    "    def show_route(route, height=\"400px\"):\n",
    "        url = f\"{prefix}{route}\" if IN_HUB else f\"http://localhost:{server.config.port}{route}\"\n",
    "        display(IPython.display.Markdown(f\"[`{url}`]({url})\"))\n",
    "        display(IPython.display.IFrame(url, width=\"100%\", height=height))"
   ]
  },
  {
   "cell_type": "code",
   "execution_count": 12,
   "metadata": {},
   "outputs": [
    {
     "output_type": "stream",
     "name": "stdout",
     "text": "[NbConvertApp] Converting notebook IFastAPI.ipynb to python\nFixing /Users/tonyfast/ifastapi/ifastapi.py\n\u001b[1mreformatted ifastapi.py\u001b[0m\n\u001b[1mAll done! ✨ 🍰 ✨\u001b[0m\n\u001b[1m1 file reformatted\u001b[0m.\u001b[0m\n"
    }
   ],
   "source": [
    "    if __name__ == '__main__' and '__file__' not in globals():\n",
    "        !jupyter nbconvert --to python --stdout IFastAPI.ipynb > ifastapi.py\n",
    "        !isort ifastapi.py \n",
    "        !black ifastapi.py"
   ]
  }
 ],
 "metadata": {
  "kernelspec": {
   "display_name": "Python 3",
   "language": "python",
   "name": "python3"
  },
  "language_info": {
   "codemirror_mode": {
    "name": "ipython",
    "version": 3
   },
   "file_extension": ".py",
   "mimetype": "text/x-python",
   "name": "python",
   "nbconvert_exporter": "python",
   "pygments_lexer": "ipython3",
   "version": "3.7.3-final"
  }
 },
 "nbformat": 4,
 "nbformat_minor": 4
}